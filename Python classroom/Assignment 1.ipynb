{
 "cells": [
  {
   "cell_type": "markdown",
   "id": "ec1320c4",
   "metadata": {},
   "source": [
    "# SET A"
   ]
  },
  {
   "cell_type": "code",
   "execution_count": 1,
   "id": "5d95e362",
   "metadata": {},
   "outputs": [
    {
     "name": "stdout",
     "output_type": "stream",
     "text": [
      "Enter first side: 3\n",
      "Enter second side: 2\n",
      "Enter third side: 4\n",
      "The area of the triangle is 2.90\n"
     ]
    }
   ],
   "source": [
    "#1. Python Program to Calculate the Area of a Triangle \n",
    "a = float(input('Enter first side: '))  \n",
    "b = float(input('Enter second side: '))  \n",
    "c = float(input('Enter third side: ')) \n",
    "s = (a + b + c) / 2 \n",
    "area = (s*(s-a)*(s-b)*(s-c)) ** 0.5  \n",
    "print('The area of the triangle is %0.2f' %area)"
   ]
  },
  {
   "cell_type": "code",
   "execution_count": 2,
   "id": "d521ebfd",
   "metadata": {},
   "outputs": [
    {
     "name": "stdout",
     "output_type": "stream",
     "text": [
      "Enter value of X: 2\n",
      "Enter value of Y: 5\n",
      "Value of x: 5.0\n",
      "Value of y: 2.0\n"
     ]
    }
   ],
   "source": [
    "#2Python Program to Swap Two Variables \n",
    "x = float(input('Enter value of X: ')) \n",
    "y = float(input('Enter value of Y: ')) \n",
    "temp = x\n",
    "x = y\n",
    "y = temp\n",
    "\n",
    "print(\"Value of x:\", x)\n",
    "print(\"Value of y:\", y)"
   ]
  },
  {
   "cell_type": "code",
   "execution_count": 3,
   "id": "87d440b0",
   "metadata": {},
   "outputs": [
    {
     "name": "stdout",
     "output_type": "stream",
     "text": [
      "7\n"
     ]
    }
   ],
   "source": [
    "#.3 Python Program to Generate a Random Number \n",
    "import random  \n",
    "n = random.randint(0,50)  \n",
    "print(n) "
   ]
  },
  {
   "cell_type": "markdown",
   "id": "9907160b",
   "metadata": {},
   "source": [
    "# SET B"
   ]
  },
  {
   "cell_type": "code",
   "execution_count": 4,
   "id": "d3494e08",
   "metadata": {},
   "outputs": [
    {
     "name": "stdout",
     "output_type": "stream",
     "text": [
      "Enter a number: 4\n",
      "Positive number\n"
     ]
    }
   ],
   "source": [
    "#1.Write a Python Program to Check if a Number is Positive, Negative or Zero \n",
    "num = float(input(\"Enter a number: \"))\n",
    "if num >= 0:\n",
    "   if num == 0:\n",
    "       print(\"Zero\")\n",
    "   else:\n",
    "       print(\"Positive number\")\n",
    "else:\n",
    "   print(\"Negative number\")"
   ]
  },
  {
   "cell_type": "code",
   "execution_count": 5,
   "id": "13e46370",
   "metadata": {},
   "outputs": [
    {
     "name": "stdout",
     "output_type": "stream",
     "text": [
      "Enter a number: 7\n",
      "7 is Odd\n"
     ]
    }
   ],
   "source": [
    "#2.Write a Python Program to Check if a Number is Odd or Even \n",
    "\n",
    "num = int(input(\"Enter a number: \"))\n",
    "if (num % 2) == 0:\n",
    "   print(\"{0} is Even\".format(num))\n",
    "else:\n",
    "   print(\"{0} is Odd\".format(num))"
   ]
  },
  {
   "cell_type": "code",
   "execution_count": 7,
   "id": "61a09e7d",
   "metadata": {},
   "outputs": [
    {
     "name": "stdout",
     "output_type": "stream",
     "text": [
      "Enter a number: 7\n",
      "7 is a prime number\n"
     ]
    }
   ],
   "source": [
    "#3.Write a Python Program to Check Prime Number \n",
    "num = int(input(\"Enter a number: \"))\n",
    "flag = False\n",
    "if num > 1:\n",
    "    for i in range(2, num):\n",
    "        if (num % i) == 0:\n",
    "            flag = True       \n",
    "            break\n",
    "if flag:\n",
    " print(num, \"is not a prime number\")\n",
    "else:\n",
    " print(num, \"is a prime number\")"
   ]
  },
  {
   "cell_type": "code",
   "execution_count": 8,
   "id": "ae611a09",
   "metadata": {},
   "outputs": [
    {
     "name": "stdout",
     "output_type": "stream",
     "text": [
      "Enter a number: 57\n",
      "57 is not an Armstrong number\n"
     ]
    }
   ],
   "source": [
    "#4.Write a Python Program to Check Armstrong Number \n",
    "num = int(input(\"Enter a number: \"))\n",
    "sum = 0\n",
    "temp = num\n",
    "while temp > 0:\n",
    "   digit = temp % 10\n",
    "   sum += digit ** 3\n",
    "   temp //= 10\n",
    "if num == sum:\n",
    "   print(num,\"is an Armstrong number\")\n",
    "else:\n",
    "   print(num,\"is not an Armstrong number\")"
   ]
  },
  {
   "cell_type": "code",
   "execution_count": 9,
   "id": "de8a19b6",
   "metadata": {},
   "outputs": [
    {
     "name": "stdout",
     "output_type": "stream",
     "text": [
      "Enter a number: 4\n",
      "The factorial of 4 is 24\n"
     ]
    }
   ],
   "source": [
    "#5.Write a Python Program to Find the Factorial of a Number \n",
    "num = int(input(\"Enter a number: \"))\n",
    "\n",
    "factorial = 1\n",
    "if num < 0:\n",
    "   print(\"Sorry, factorial does not exist for negative numbers\")\n",
    "elif num == 0:\n",
    "   print(\"The factorial of 0 is 1\")\n",
    "else:\n",
    "   for i in range(1,num + 1):\n",
    "       factorial = factorial*i\n",
    "   print(\"The factorial of\",num,\"is\",factorial)"
   ]
  },
  {
   "cell_type": "markdown",
   "id": "b611322f",
   "metadata": {},
   "source": [
    "# PROGRAMS FOR PRACTICE:"
   ]
  },
  {
   "cell_type": "code",
   "execution_count": 10,
   "id": "cfa87442",
   "metadata": {},
   "outputs": [
    {
     "name": "stdout",
     "output_type": "stream",
     "text": [
      "Enter value in kilometers: 2\n",
      "2.00 kilometers is equal to 1.24 miles\n"
     ]
    }
   ],
   "source": [
    "#1. Python Program to Convert Kilometers to Miles \n",
    "kilometers = float(input(\"Enter value in kilometers: \"))\n",
    "conv_fac = 0.621371\n",
    "miles = kilometers * conv_fac\n",
    "print('%0.2f kilometers is equal to %0.2f miles' %(kilometers,miles))"
   ]
  },
  {
   "cell_type": "code",
   "execution_count": 11,
   "id": "06c6db91",
   "metadata": {},
   "outputs": [
    {
     "name": "stdout",
     "output_type": "stream",
     "text": [
      "Enter value in celsius: 27\n",
      "27.0 degree Celsius is equal to 80.6 degree Fahrenheit\n"
     ]
    }
   ],
   "source": [
    "#2.Python Program to Convert Celsius To Fahrenheit \n",
    "celsius = float(input(\"Enter value in celsius: \"))\n",
    "fahrenheit = (celsius * 1.8) + 32\n",
    "print('%0.1f degree Celsius is equal to %0.1f degree Fahrenheit' %(celsius,fahrenheit))"
   ]
  },
  {
   "cell_type": "code",
   "execution_count": 13,
   "id": "0de202f3",
   "metadata": {},
   "outputs": [
    {
     "name": "stdout",
     "output_type": "stream",
     "text": [
      "Enter year:  2016\n",
      "2016 is a leap year\n"
     ]
    }
   ],
   "source": [
    "#3.Write a Python Program to Check Leap Year \n",
    "year=int(input(\"Enter year:  \"))\n",
    "if year%4==0 and year%100!=0:\n",
    "    print(year,\"is a leap year\")\n",
    "elif year%100==0:\n",
    "    print(year,\"is not a leap year\")\n",
    "elif year%400==0:\n",
    "    print(year,\"is a leap year\")\n",
    "else:\n",
    "    print(year,\"is not a leap year\")"
   ]
  },
  {
   "cell_type": "code",
   "execution_count": 14,
   "id": "667e276b",
   "metadata": {},
   "outputs": [
    {
     "name": "stdout",
     "output_type": "stream",
     "text": [
      "Enter the starting value1\n",
      "Enter the ending value10\n",
      "2\n",
      "3\n",
      "5\n",
      "7\n"
     ]
    }
   ],
   "source": [
    "#4.Write a Python Program to Print all Prime Numbers in an Interval \n",
    "start=int(input(\"Enter the starting value\"))\n",
    "end=int(input(\"Enter the ending value\"))\n",
    "for i in range(start,end+1):\n",
    "    cnt=0\n",
    "    for num in range(1,i+1):\n",
    "      if(i%num)==0:\n",
    "        cnt=cnt+1\n",
    "    if(cnt==2):\n",
    "     print(i)\n",
    "            "
   ]
  },
  {
   "cell_type": "code",
   "execution_count": 15,
   "id": "46e34a6d",
   "metadata": {},
   "outputs": [
    {
     "name": "stdout",
     "output_type": "stream",
     "text": [
      "How many terms: 6\n",
      "0\n",
      "1\n",
      "1\n",
      "2\n",
      "3\n",
      "5\n"
     ]
    }
   ],
   "source": [
    "#5.Write a Python Program to Print the Fibonacci sequence \n",
    "n=int(input(\"How many terms: \"))\n",
    "a=0\n",
    "b=1\n",
    "print(a)\n",
    "print(b)\n",
    "for i in range(2,n):\n",
    "    c=a+b\n",
    "    a=b\n",
    "    b=c\n",
    "    print(c)"
   ]
  },
  {
   "cell_type": "code",
   "execution_count": 1,
   "id": "cf49f82b",
   "metadata": {},
   "outputs": [
    {
     "name": "stdout",
     "output_type": "stream",
     "text": [
      "How many terms: 7\n",
      "Fibonacci seq: \n",
      "0\n",
      "1\n",
      "1\n",
      "2\n",
      "3\n",
      "5\n",
      "8\n"
     ]
    }
   ],
   "source": [
    "#Fibonacci series using while loop\n",
    "n=int(input(\"How many terms: \"))\n",
    "a=0\n",
    "b=1\n",
    "cnt=0\n",
    "print(\"Fibonacci seq: \")\n",
    "while cnt<n:\n",
    "    print(a)\n",
    "    c=a+b\n",
    "    a=b\n",
    "    b=c\n",
    "    cnt=cnt+1"
   ]
  },
  {
   "cell_type": "code",
   "execution_count": 16,
   "id": "44e35d0e",
   "metadata": {
    "scrolled": false
   },
   "outputs": [
    {
     "name": "stdout",
     "output_type": "stream",
     "text": [
      "Enter the starting value100\n",
      "Enter the ending value400\n",
      "125 is armstrong\n",
      "153 is armstrong\n",
      "216 is armstrong\n",
      "370 is armstrong\n",
      "371 is armstrong\n"
     ]
    }
   ],
   "source": [
    "#6.Write a Python Program to Find Armstrong Number in an Interval \n",
    "start=int(input(\"Enter the starting value\"))\n",
    "end=int(input(\"Enter the ending value\"))\n",
    "for i in range(start,end+1):\n",
    "    sum=0\n",
    "    temp=i\n",
    "    while temp>0:\n",
    "         rem=temp%10\n",
    "         sum=sum+rem*rem*rem\n",
    "         temp=temp//10\n",
    "         if i==sum:\n",
    "            print(i,\"is armstrong\")\n",
    "     "
   ]
  },
  {
   "cell_type": "code",
   "execution_count": 17,
   "id": "90f15977",
   "metadata": {},
   "outputs": [
    {
     "name": "stdout",
     "output_type": "stream",
     "text": [
      "Enter any number: 5\n",
      "The sum is  15\n"
     ]
    }
   ],
   "source": [
    "#7.Write a Python Program to Find the Sum of Natural Numbers \n",
    "n=int(input(\"Enter any number: \"))\n",
    "sum=0\n",
    "while(n>0):\n",
    "  sum=sum+n\n",
    "  n=n-1\n",
    "print(\"The sum is \",sum)"
   ]
  },
  {
   "cell_type": "code",
   "execution_count": 9,
   "id": "d2b9eb7a",
   "metadata": {},
   "outputs": [
    {
     "name": "stdout",
     "output_type": "stream",
     "text": [
      "How many numbers:3\n",
      "1\n",
      "2\n",
      "3\n",
      "[1, 2, 3]\n"
     ]
    },
    {
     "data": {
      "text/plain": [
       "6"
      ]
     },
     "execution_count": 9,
     "metadata": {},
     "output_type": "execute_result"
    }
   ],
   "source": [
    "#function to sum all the numbers in a list\n",
    "list=[]\n",
    "n=int(input(\"How many numbers:\"))\n",
    "for i in range(0,n):\n",
    "    elements=int(input())\n",
    "    list.append(elements)\n",
    "print(list)\n",
    "def listsum():\n",
    "    sum=0\n",
    "    for i in list:\n",
    "        sum=sum+i\n",
    "    return sum\n",
    "listsum()"
   ]
  },
  {
   "cell_type": "code",
   "execution_count": 11,
   "id": "91657e0a",
   "metadata": {},
   "outputs": [
    {
     "name": "stdout",
     "output_type": "stream",
     "text": [
      "Enter a stringHello humera\n",
      "aremuh olleH\n"
     ]
    }
   ],
   "source": [
    "#Reverse a string\n",
    "str=input(\"Enter a string\")\n",
    "a=str[::-1]\n",
    "print(a)"
   ]
  },
  {
   "cell_type": "code",
   "execution_count": 17,
   "id": "c2759062",
   "metadata": {},
   "outputs": [
    {
     "name": "stdout",
     "output_type": "stream",
     "text": [
      "Enter a stringhello i am humera\n",
      "am\n",
      "humera\n"
     ]
    }
   ],
   "source": [
    "#set b Q1 even length words in a string\n",
    "str=input(\"Enter a string\")\n",
    "str=str.split(' ')\n",
    "for words in str:\n",
    "  if len(words)%2==0:\n",
    "     print(words)"
   ]
  },
  {
   "cell_type": "code",
   "execution_count": 5,
   "id": "d27743f5",
   "metadata": {},
   "outputs": [
    {
     "name": "stdout",
     "output_type": "stream",
     "text": [
      "Enter a stringabdcjio\n",
      "abdcjio  accepted\n"
     ]
    }
   ],
   "source": [
    "#accept string which contains all vowels\n",
    "str=input(\"Enter a string\")\n",
    "vowels=['a','e','i','o','u']\n",
    "for i in vowels:\n",
    "    if i in vowels:\n",
    "        print(str,\" accepted\")\n",
    "        break\n",
    "    else:\n",
    "        print(str,\" not accepted\")\n",
    "        break"
   ]
  },
  {
   "cell_type": "code",
   "execution_count": 7,
   "id": "e81f457d",
   "metadata": {},
   "outputs": [
    {
     "name": "stdout",
     "output_type": "stream",
     "text": [
      "Enter 1 stringhello tybcs\n",
      "Enter 2 stringheyy ty\n",
      "Matching char are: 4\n"
     ]
    }
   ],
   "source": [
    "#count the no of matching characters in pair of string\n",
    "str1=input(\"Enter 1 string\")\n",
    "str2=input(\"Enter 2 string\")\n",
    "cnt1=0\n",
    "cnt2=0\n",
    "for i in str1:\n",
    "    if str2.find(i)>0 and cnt2==str1.find(i):\n",
    "        cnt1=cnt1+1\n",
    "    cnt2=cnt2+1\n",
    "print(\"Matching char are:\",cnt1)"
   ]
  },
  {
   "cell_type": "code",
   "execution_count": 6,
   "id": "3a39574a",
   "metadata": {},
   "outputs": [
    {
     "name": "stdout",
     "output_type": "stream",
     "text": [
      "Enter no of elements3\n",
      "1\n",
      "2\n",
      "3\n",
      "[1, 2, 3]\n"
     ]
    }
   ],
   "source": [
    "#taking input from user for list\n",
    "lst=[]\n",
    "n=int(input(\"Enter no of elements\"))\n",
    "for i in range(0,n):\n",
    "    ele=int(input())\n",
    "    lst.append(ele)\n",
    "print(lst)"
   ]
  },
  {
   "cell_type": "code",
   "execution_count": 14,
   "id": "9999d1a2",
   "metadata": {},
   "outputs": [
    {
     "name": "stdout",
     "output_type": "stream",
     "text": [
      "Enter elements:3 4 5 6 7\n",
      "3\n",
      "4\n",
      "5\n",
      "6\n",
      "7\n"
     ]
    }
   ],
   "source": [
    "lst=input(\"Enter elements:\")\n",
    "lst1=lst.split(\" \")\n",
    "for i in lst1:\n",
    "    print(i)"
   ]
  },
  {
   "cell_type": "code",
   "execution_count": 1,
   "id": "e54f169f",
   "metadata": {},
   "outputs": [
    {
     "name": "stdout",
     "output_type": "stream",
     "text": [
      "Enter no of elements3\n",
      "Enter elements 1\n",
      "Enter elements 2\n",
      "Enter elements 3\n",
      "[1, 2, 3]\n",
      "6\n"
     ]
    }
   ],
   "source": [
    "#list set A Q1 sum of items in list\n",
    "n=int(input(\"Enter no of elements\"))\n",
    "lst=[]\n",
    "for i in range(0,n):\n",
    "    ele=int(input(\"Enter elements \"))\n",
    "    lst.append(ele)\n",
    "print(lst)\n",
    "s=sum(lst)\n",
    "print(s)"
   ]
  },
  {
   "cell_type": "code",
   "execution_count": 21,
   "id": "e8b3008f",
   "metadata": {},
   "outputs": [
    {
     "data": {
      "text/plain": [
       "[0, 1, 2, 3, 4]"
      ]
     },
     "execution_count": 21,
     "metadata": {},
     "output_type": "execute_result"
    }
   ],
   "source": [
    "l=list(range(0,5))\n",
    "l"
   ]
  },
  {
   "cell_type": "code",
   "execution_count": 4,
   "id": "09ef8a1f",
   "metadata": {},
   "outputs": [
    {
     "name": "stdout",
     "output_type": "stream",
     "text": [
      "Enter no of elements4\n",
      "Enter elements 2\n",
      "Enter elements 3\n",
      "Enter elements 4\n",
      "Enter elements 1\n",
      "[2, 3, 4, 1]\n",
      "24\n"
     ]
    }
   ],
   "source": [
    "#list set A Q2 mult of items in list\n",
    "n=int(input(\"Enter no of elements\"))\n",
    "lst=[]\n",
    "for i in range(0,n):\n",
    "    ele=int(input(\"Enter elements \"))\n",
    "    lst.append(ele)\n",
    "print(lst)\n",
    "mult=1\n",
    "for i in range(0,n):\n",
    "    mult=mult*lst[i]\n",
    "print(mult)"
   ]
  },
  {
   "cell_type": "code",
   "execution_count": 12,
   "id": "a1c719bc",
   "metadata": {},
   "outputs": [
    {
     "name": "stdout",
     "output_type": "stream",
     "text": [
      "4\n",
      "2\n",
      "5\n",
      "[4, 2, 3, 1, 5]\n"
     ]
    }
   ],
   "source": [
    "#list set B Q1 remove duplicates from list\n",
    "list=[2,3,4,2,3,1,5]\n",
    "for i in list:\n",
    "    c=list.count(i)\n",
    "    if(c>1):\n",
    "        list.remove(i)\n",
    "    else:\n",
    "        print(i)\n",
    "print(list)"
   ]
  },
  {
   "cell_type": "code",
   "execution_count": null,
   "id": "e6c559dc",
   "metadata": {},
   "outputs": [],
   "source": []
  }
 ],
 "metadata": {
  "kernelspec": {
   "display_name": "Python 3 (ipykernel)",
   "language": "python",
   "name": "python3"
  },
  "language_info": {
   "codemirror_mode": {
    "name": "ipython",
    "version": 3
   },
   "file_extension": ".py",
   "mimetype": "text/x-python",
   "name": "python",
   "nbconvert_exporter": "python",
   "pygments_lexer": "ipython3",
   "version": "3.9.7"
  }
 },
 "nbformat": 4,
 "nbformat_minor": 5
}
