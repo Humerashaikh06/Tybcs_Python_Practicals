{
 "cells": [
  {
   "cell_type": "markdown",
   "id": "7740a8d6",
   "metadata": {},
   "source": [
    "# Set A Strings:"
   ]
  },
  {
   "cell_type": "code",
   "execution_count": 1,
   "id": "ff573a02",
   "metadata": {},
   "outputs": [
    {
     "name": "stdout",
     "output_type": "stream",
     "text": [
      "Enter the string rotor\n",
      "given string is not symmetrical\n",
      "given string is palindrome\n"
     ]
    }
   ],
   "source": [
    "#1.Write a python program to check whether the string is Symmetrical or Palindrome\n",
    "def symmetrical(str1,str2):\n",
    "    if(str1==str2):\n",
    "        print(\"given string is symmetrical\")\n",
    "    else:\n",
    "        print(\"given string is not symmetrical\")\n",
    "def palindrome(str1,str2):\n",
    "    if(str1==str2[::-1]):\n",
    "        print(\"given string is palindrome\")\n",
    "    else:\n",
    "        print(\"given string is not palindrome\")\n",
    "str=input(\"Enter the string \")\n",
    "size=len(str)\n",
    "mid=size//2\n",
    "if(size%2==0):\n",
    "    str1=str[:mid]\n",
    "    str2=str[mid:]\n",
    "else:\n",
    "    str1=str[:mid]\n",
    "    str2=str[mid+1:]\n",
    "symmetrical(str1,str2)\n",
    "palindrome(str1,str2)"
   ]
  },
  {
   "cell_type": "code",
   "execution_count": 2,
   "id": "4a966008",
   "metadata": {},
   "outputs": [
    {
     "name": "stdout",
     "output_type": "stream",
     "text": [
      "Enter a string for reverse words: python programming\n",
      "programming python\n"
     ]
    }
   ],
   "source": [
    "#2.Write a python program to Reverse words in a given String#Q2 Reverse\n",
    "str=input(\"Enter a string for reverse words: \")\n",
    "words=str.split(' ')\n",
    "words=list(reversed(words))\n",
    "print(' '.join(words))"
   ]
  },
  {
   "cell_type": "code",
   "execution_count": 3,
   "id": "3cc0cd8a",
   "metadata": {},
   "outputs": [
    {
     "name": "stdout",
     "output_type": "stream",
     "text": [
      "Enter a string: python\n",
      "The original string is: python\n",
      "enter the i^th char you want to remove:3\n",
      "The string after removal is: pyton\n"
     ]
    }
   ],
   "source": [
    "#3.Write a python program to remove i’th character from string in different ways\n",
    "str=input(\"Enter a string: \") \n",
    "print(\"The original string is:\",str)\n",
    "c=int(input(\"enter the i^th char you want to remove:\"))\n",
    "new_str=\"\"\n",
    "for i in range(len(str)):\n",
    "    if i!=c:\n",
    "        new_str=new_str+str[i]\n",
    "print(\"The string after removal is:\",new_str)"
   ]
  },
  {
   "cell_type": "markdown",
   "id": "826849f0",
   "metadata": {},
   "source": [
    "# Set B Strings"
   ]
  },
  {
   "cell_type": "code",
   "execution_count": 4,
   "id": "b279de56",
   "metadata": {},
   "outputs": [
    {
     "name": "stdout",
     "output_type": "stream",
     "text": [
      "Enter a string hey there humera\n",
      "humera\n",
      "done\n"
     ]
    }
   ],
   "source": [
    "#Set B Strings Q1\n",
    "#print even length words in string\n",
    "str=input(\"Enter a string \")\n",
    "s=str.split(' ')\n",
    "for wrd in s:\n",
    "    if(len(wrd)%2 == 0):\n",
    "      print(wrd)\n",
    "print(\"done\")"
   ]
  },
  {
   "cell_type": "code",
   "execution_count": 16,
   "id": "aa93540c",
   "metadata": {},
   "outputs": [
    {
     "name": "stdout",
     "output_type": "stream",
     "text": [
      "Enter a string aeijnadou\n",
      "Accepted\n"
     ]
    }
   ],
   "source": [
    "# Set B Q 2\n",
    "#to accept strings which contains all vowels\n",
    "str=input(\"Enter a string \")\n",
    "vowels=['a','e','i','o','u']\n",
    "for char in str:\n",
    "    if char not in vowels:\n",
    "        print(\"Not Accepted\")\n",
    "        break\n",
    "    else:\n",
    "        print(\"Accepted\")\n",
    "        break"
   ]
  },
  {
   "cell_type": "code",
   "execution_count": 19,
   "id": "b852c03c",
   "metadata": {},
   "outputs": [
    {
     "name": "stdout",
     "output_type": "stream",
     "text": [
      "Enter 1 string:humera\n",
      "Enter 2 string:helena\n",
      "4\n"
     ]
    }
   ],
   "source": [
    "#Set B Q3\n",
    "#Count the number of matching characters in pair of string\n",
    "str1=input(\"Enter 1 string:\")\n",
    "str2=input(\"Enter 2 string:\")\n",
    "cnt=0\n",
    "for i in str1:\n",
    "    for j in str2:\n",
    "        if(i==j):\n",
    "            cnt+=1\n",
    "print(cnt)"
   ]
  },
  {
   "cell_type": "markdown",
   "id": "54adf5d2",
   "metadata": {},
   "source": [
    "OR"
   ]
  },
  {
   "cell_type": "code",
   "execution_count": 2,
   "id": "166c343f",
   "metadata": {},
   "outputs": [
    {
     "name": "stdout",
     "output_type": "stream",
     "text": [
      "Enter the first string:maid\n",
      "Enter the second string:made\n",
      "no of matching characters  3\n"
     ]
    }
   ],
   "source": [
    "def check(str1,str2):\n",
    "    cnt,dupli=0,0\n",
    "    for i in str1:\n",
    "        if str2.find(i)>=0 and dupli==str1.find(i):\n",
    "            cnt+=1\n",
    "        dupli+=1\n",
    "    print(\"no of matching characters \",cnt)\n",
    "str1=input(\"Enter the first string:\")\n",
    "str2=input(\"Enter the second string:\")\n",
    "check(str1,str2)"
   ]
  },
  {
   "cell_type": "markdown",
   "id": "c3e3e31b",
   "metadata": {},
   "source": [
    "OR"
   ]
  },
  {
   "cell_type": "code",
   "execution_count": 5,
   "id": "d5cf68bd",
   "metadata": {},
   "outputs": [
    {
     "name": "stdout",
     "output_type": "stream",
     "text": [
      "Enter the first string:apple\n",
      "Enter the second string:mapple\n",
      "{'p', 'a', 'e', 'l'}\n"
     ]
    }
   ],
   "source": [
    "str1=input(\"Enter the first string:\")\n",
    "str2=input(\"Enter the second string:\")\n",
    "s1=set(str1)\n",
    "s2=set(str2)\n",
    "check=s1 & s2\n",
    "print(check)\n"
   ]
  },
  {
   "cell_type": "markdown",
   "id": "9d0d030a",
   "metadata": {},
   "source": [
    "# Set A Functions"
   ]
  },
  {
   "cell_type": "code",
   "execution_count": 23,
   "id": "0fbcb0f2",
   "metadata": {},
   "outputs": [
    {
     "name": "stdout",
     "output_type": "stream",
     "text": [
      "Enter no 1: 4\n",
      "Enter no 2: 7\n",
      "Enter no 3: 9\n",
      "9 is greatest\n"
     ]
    }
   ],
   "source": [
    "#Set A Q1\n",
    "#max of 3 numbers\n",
    "no1=int(input(\"Enter no 1: \"))\n",
    "no2=int(input(\"Enter no 2: \"))\n",
    "no3=int(input(\"Enter no 3: \"))\n",
    "def max(n1,n2,n3):\n",
    "    if(n1>n2) and (n1>n3):\n",
    "        print(n1,\"is greatest\")\n",
    "    elif(n2>n1) and (n2>n3):\n",
    "        print(n2,\"is greatest\")\n",
    "    else:\n",
    "        print(n3,\"is greatest\")\n",
    "max(no1,no2,no3)"
   ]
  },
  {
   "cell_type": "code",
   "execution_count": 32,
   "id": "39b93173",
   "metadata": {},
   "outputs": [
    {
     "name": "stdout",
     "output_type": "stream",
     "text": [
      "Enter how many no's:4\n",
      "Enter numbers1\n",
      "Enter numbers2\n",
      "Enter numbers3\n",
      "Enter numbers4\n",
      "[1, 2, 3, 4]\n"
     ]
    },
    {
     "data": {
      "text/plain": [
       "10"
      ]
     },
     "execution_count": 32,
     "metadata": {},
     "output_type": "execute_result"
    }
   ],
   "source": [
    "#Set A Q2\n",
    "#sum all the numbers in a list\n",
    "list=[]\n",
    "n=int(input(\"Enter how many no's:\"))\n",
    "for i in range(0,n):\n",
    "    element=int(input(\"Enter numbers\"))\n",
    "    list.append(element)\n",
    "print(list)\n",
    "def sumlist():\n",
    "    sum=0\n",
    "    for i in list:\n",
    "        sum=sum+i\n",
    "    return sum\n",
    "sumlist()"
   ]
  },
  {
   "cell_type": "code",
   "execution_count": 14,
   "id": "c27a3377",
   "metadata": {},
   "outputs": [
    {
     "name": "stdout",
     "output_type": "stream",
     "text": [
      "Enter the first string:humera\n",
      "the original string is:humera\n",
      "the reversed string is:aremuh\n"
     ]
    }
   ],
   "source": [
    "#Set A Q3\n",
    "#Reverse a string function\n",
    "str=input(\"Enter the first string:\")\n",
    "def reverse(string):\n",
    "    string=\"\".join(reversed(string))\n",
    "    return string\n",
    "print(\"the original string is:\",end=\"\")\n",
    "print(str)\n",
    "print(\"the reversed string is:\",end=\"\")\n",
    "print(reverse(str))"
   ]
  },
  {
   "cell_type": "markdown",
   "id": "d0e72e93",
   "metadata": {},
   "source": [
    "# Set B Functions"
   ]
  },
  {
   "cell_type": "code",
   "execution_count": 4,
   "id": "7904bfc9",
   "metadata": {},
   "outputs": [
    {
     "name": "stdout",
     "output_type": "stream",
     "text": [
      "[1, 2, 3, 4]\n"
     ]
    }
   ],
   "source": [
    "#Q1 function that takes a list and returns a new list with unique elements of the first list\n",
    "def f(list):\n",
    "\n",
    "    a=set(list)\n",
    "\n",
    "    print(sorted(a))\n",
    "\n",
    "f([1,1,1,2,3,4])\n",
    "    "
   ]
  },
  {
   "cell_type": "code",
   "execution_count": 25,
   "id": "103bb672",
   "metadata": {},
   "outputs": [
    {
     "name": "stdout",
     "output_type": "stream",
     "text": [
      "Enter any no to check prime or not:3\n",
      "3  is prime\n"
     ]
    }
   ],
   "source": [
    "#Q2 function that takes number as parameter and check the number is prime or not\n",
    "n=int(input(\"Enter any no to check prime or not:\"))\n",
    "def prime(no):\n",
    "    cnt=0\n",
    "    for i in range(2,no+1):\n",
    "        if(no%i)==0:\n",
    "            cnt+=1\n",
    "    if(cnt==1):\n",
    "        print(no,\" is prime\")\n",
    "    else:\n",
    "        print(no,\" is not prime\")\n",
    "prime(n)\n",
    "          "
   ]
  },
  {
   "cell_type": "code",
   "execution_count": 6,
   "id": "a1343280",
   "metadata": {},
   "outputs": [
    {
     "name": "stdout",
     "output_type": "stream",
     "text": [
      "Enter any number: 6\n",
      "6  The number is a Perfect number!\n"
     ]
    }
   ],
   "source": [
    "#3.Write a Python function to check whether a number is perfect or not\n",
    "n = int(input(\"Enter any number: \"))\n",
    "sum1 = 0\n",
    "for i in range(1, n):\n",
    "    if(n % i == 0):\n",
    "        sum1 = sum1 + i\n",
    "if (sum1 == n):\n",
    "    print(n,\" The number is a Perfect number!\")\n",
    "else:\n",
    "    print(n,\" number is not a Perfect number!\")"
   ]
  },
  {
   "cell_type": "markdown",
   "id": "384c0462",
   "metadata": {},
   "source": [
    "# PROGRAMS FOR PRACTICE:"
   ]
  },
  {
   "cell_type": "code",
   "execution_count": 7,
   "id": "fa586287",
   "metadata": {},
   "outputs": [
    {
     "name": "stdout",
     "output_type": "stream",
     "text": [
      "[1, 5, 2, 5, 3, 5, 4, 5, 5, 5]\n"
     ]
    }
   ],
   "source": [
    "#1. Write a Python program to append items from a specified list.\n",
    "input = [1, 2, 3, 4, 5]\n",
    "key = 5\n",
    "  \n",
    "result = []\n",
    "for ele in input:\n",
    "    result.append(ele)\n",
    "    result.append(key)\n",
    "  \n",
    "print(result)"
   ]
  },
  {
   "cell_type": "code",
   "execution_count": 8,
   "id": "3d0ea603",
   "metadata": {},
   "outputs": [
    {
     "name": "stdout",
     "output_type": "stream",
     "text": [
      "YES\n"
     ]
    }
   ],
   "source": [
    "#2.Write a python program Check if a Substring is Present in a Given String\n",
    "def check(string, sub_str):\n",
    "    if (string.find(sub_str) == -1):\n",
    "        print(\"NO\")\n",
    "    else:\n",
    "        print(\"YES\")\n",
    "            \n",
    "# driver code\n",
    "string = \"Hello Tybcs welcome\"\n",
    "sub_str =\"Tybcs\"\n",
    "check(string, sub_str)"
   ]
  },
  {
   "cell_type": "code",
   "execution_count": 9,
   "id": "7ec5cbce",
   "metadata": {},
   "outputs": [
    {
     "name": "stdout",
     "output_type": "stream",
     "text": [
      "Frequency of apple is : 3\n",
      "Frequency of mango is : 3\n",
      "Frequency of orange is : 2\n",
      "Frequency of guava is : 1\n"
     ]
    }
   ],
   "source": [
    "#3.Write a python program Words Frequency in String Shorthands\n",
    "def freq(str):\n",
    "    str = str.split()         \n",
    "    str2 = []\n",
    "    for i in str:             \n",
    "        if i not in str2:\n",
    "            str2.append(i)               \n",
    "    for i in range(0, len(str2)):\n",
    "        print('Frequency of', str2[i], 'is :', str.count(str2[i]))      \n",
    "def main():\n",
    "    str ='apple mango apple orange orange apple guava mango mango'\n",
    "    freq(str)                    \n",
    "  \n",
    "if __name__==\"__main__\":\n",
    "    main()             "
   ]
  },
  {
   "cell_type": "code",
   "execution_count": 2,
   "id": "36acdecd",
   "metadata": {},
   "outputs": [
    {
     "name": "stdout",
     "output_type": "stream",
     "text": [
      "Enter any string hello_humera\n",
      "hello_humera\n",
      "hello humera\n"
     ]
    }
   ],
   "source": [
    "#4.Write a python program Convert Snake case to Pascal case\n",
    "str1=input(\"Enter any string \")\n",
    "newstr1=str1.replace('_',' ')\n",
    "print(str1)\n",
    "print(newstr1)"
   ]
  },
  {
   "cell_type": "code",
   "execution_count": 3,
   "id": "acc29073",
   "metadata": {},
   "outputs": [
    {
     "name": "stdout",
     "output_type": "stream",
     "text": [
      "Enter any number: 5\n",
      "Factorial of 5 is 120\n"
     ]
    }
   ],
   "source": [
    "#5.Write a Python function to calculate the factorial of a number (a non-negative integer). The functionaccepts the number \n",
    "#as an argument\n",
    "def factorial(n):\n",
    "    return 1 if (n==1 or n==0) else n * factorial(n - 1);\n",
    "num = int(input(\"Enter any number: \"))\n",
    "print(\"Factorial of\",num,\"is\",\n",
    "factorial(num))"
   ]
  },
  {
   "cell_type": "code",
   "execution_count": 4,
   "id": "c98ff3e1",
   "metadata": {},
   "outputs": [
    {
     "name": "stdout",
     "output_type": "stream",
     "text": [
      "Enter any number1: 1\n",
      "Enter any number2: 15\n",
      "Enter any number: 7\n",
      "True\n"
     ]
    }
   ],
   "source": [
    "#6.Write a Python function to check whether a number is in a given range\n",
    "start=(int(input(\"Enter any number1: \")))\n",
    "end=(int(input(\"Enter any number2: \")))\n",
    "is_between = (int(input(\"Enter any number: \")))in range(start,end)\n",
    "\n",
    "print(is_between)"
   ]
  },
  {
   "cell_type": "code",
   "execution_count": 5,
   "id": "cdb1594c",
   "metadata": {},
   "outputs": [
    {
     "name": "stdout",
     "output_type": "stream",
     "text": [
      "Enter any string:Hey Humera\n",
      "Original String :  Hey Humera\n",
      "No. of Upper case characters :  2\n",
      "No. of Lower case Characters :  7\n"
     ]
    }
   ],
   "source": [
    "#7.Write a Python function that accepts a string and calculate the number of upper case letters and lower case\n",
    "def string_test(s):\n",
    "    d={\"UPPER_CASE\":0, \"LOWER_CASE\":0}\n",
    "    for c in s:\n",
    "        if c.isupper():\n",
    "           d[\"UPPER_CASE\"]+=1\n",
    "        elif c.islower():\n",
    "           d[\"LOWER_CASE\"]+=1\n",
    "        else:\n",
    "           pass\n",
    "    print (\"Original String : \", s)\n",
    "    print (\"No. of Upper case characters : \", d[\"UPPER_CASE\"])\n",
    "    print (\"No. of Lower case Characters : \", d[\"LOWER_CASE\"])\n",
    "\n",
    "string_test(input(\"Enter any string:\"))"
   ]
  },
  {
   "cell_type": "code",
   "execution_count": 7,
   "id": "959603ae",
   "metadata": {},
   "outputs": [
    {
     "name": "stdout",
     "output_type": "stream",
     "text": [
      "Number of local varibales available: 4\n"
     ]
    }
   ],
   "source": [
    "#8. Write a Python program to detect the number of local variables declared in a function.\n",
    "def scope():\n",
    "    a = 17\n",
    "    b = 9\n",
    "    c = 20\n",
    "    str = 'Python'\n",
    "\n",
    "print(\"Number of local varibales available:\",scope.__code__.co_nlocals)"
   ]
  },
  {
   "cell_type": "code",
   "execution_count": 8,
   "id": "18907f96",
   "metadata": {},
   "outputs": [
    {
     "name": "stdout",
     "output_type": "stream",
     "text": [
      "Enter any string:apple\n",
      "apple\n",
      "alpe\n"
     ]
    }
   ],
   "source": [
    "#9.Write a python program to Remove all duplicates from a given string in Python\n",
    "def removeDuplicate(str, n):\n",
    "    s = set()\n",
    "    for i in str:\n",
    "        s.add(i)\n",
    "    st = \"\"\n",
    "    for i in s:\n",
    "        st = st+i\n",
    "    return st\n",
    "str = (input(\"Enter any string:\"))\n",
    "print(str)\n",
    "n = len(str)\n",
    "print(removeDuplicate(list(str), n))"
   ]
  },
  {
   "cell_type": "code",
   "execution_count": 10,
   "id": "6e0c8d10",
   "metadata": {},
   "outputs": [
    {
     "name": "stdout",
     "output_type": "stream",
     "text": [
      "Enter any string:reer\n",
      "reer\n",
      "given string is palindrome\n"
     ]
    }
   ],
   "source": [
    "#10.Write a Python function that checks whether a passed string is palindrome or not\n",
    "def isPalindrome(s):\n",
    "    return string == string[::-1]\n",
    "string = (input(\"Enter any string:\"))\n",
    "ans = isPalindrome(string)\n",
    "print(string)\n",
    "if ans:\n",
    "    print(\"given string is palindrome\")\n",
    "else:\n",
    "    print(\"given string is not palindrome\")"
   ]
  },
  {
   "cell_type": "code",
   "execution_count": 11,
   "id": "bc5033a3",
   "metadata": {},
   "outputs": [
    {
     "name": "stdout",
     "output_type": "stream",
     "text": [
      "Enter any string:hello-humera\n",
      "['hello', 'humera']\n",
      "['hello', 'humera']\n",
      "hello-humera\n"
     ]
    }
   ],
   "source": [
    "#11.Write a Python program that accepts a hyphen-separated sequence of words as input and prints the words in a\n",
    "#hyphen-separated sequence after sorting them alphabetically.\n",
    "str=input(\"Enter any string:\")\n",
    "s=str.split('-')\n",
    "print(s)\n",
    "s.sort()\n",
    "print(s)\n",
    "print('-'.join(s))"
   ]
  },
  {
   "cell_type": "code",
   "execution_count": 19,
   "id": "955cce75",
   "metadata": {},
   "outputs": [
    {
     "name": "stdout",
     "output_type": "stream",
     "text": [
      "[1, 4, 9, 16, 25, 36, 49, 64, 81, 100, 121, 144, 169, 196, 225, 256, 289, 324, 361, 400, 441, 484, 529, 576, 625, 676, 729, 784, 841, 900, 961, 1024, 1089, 1156, 1225, 1296, 1369, 1444, 1521, 1600, 1681, 1764, 1849, 1936, 2025, 2116, 2209, 2304, 2401, 2500]\n"
     ]
    }
   ],
   "source": [
    "#12.Write a Python function to create and print a list where the values are square of numbers\n",
    "#between 1 and 50 (both included).\n",
    "def printValues():\n",
    "    l = list()\n",
    "    for i in range(1,51):\n",
    "        l.append(i**2)\n",
    "    print(l)\n",
    "printValues()"
   ]
  },
  {
   "cell_type": "code",
   "execution_count": 17,
   "id": "36663646",
   "metadata": {},
   "outputs": [
    {
     "name": "stdout",
     "output_type": "stream",
     "text": [
      "Enter any string:print(\"humera\")\n",
      "print(\"humera\")\n"
     ]
    }
   ],
   "source": [
    "#13.Write a Python program to execute a string containing Python code.\n",
    "my_string =input(\"Enter any string:\")\n",
    "print(my_string)"
   ]
  },
  {
   "cell_type": "code",
   "execution_count": 20,
   "id": "ce863845",
   "metadata": {},
   "outputs": [
    {
     "name": "stdout",
     "output_type": "stream",
     "text": [
      "Enter any number: 15\n",
      "Enter any number: 10\n",
      "26\n"
     ]
    }
   ],
   "source": [
    "#14.Write a Python program to access a function inside a function.\n",
    "def function(a):\n",
    "        def add(b):\n",
    "                nonlocal a\n",
    "                a += 1\n",
    "                return a+b\n",
    "        return add\n",
    "func= function(int(input(\"Enter any number: \")))\n",
    "print(func(int(input(\"Enter any number: \"))))"
   ]
  },
  {
   "cell_type": "code",
   "execution_count": null,
   "id": "48e4f5f5",
   "metadata": {},
   "outputs": [],
   "source": []
  }
 ],
 "metadata": {
  "kernelspec": {
   "display_name": "Python 3 (ipykernel)",
   "language": "python",
   "name": "python3"
  },
  "language_info": {
   "codemirror_mode": {
    "name": "ipython",
    "version": 3
   },
   "file_extension": ".py",
   "mimetype": "text/x-python",
   "name": "python",
   "nbconvert_exporter": "python",
   "pygments_lexer": "ipython3",
   "version": "3.9.7"
  }
 },
 "nbformat": 4,
 "nbformat_minor": 5
}
